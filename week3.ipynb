{
 "cells": [
  {
   "cell_type": "markdown",
   "id": "314bff75",
   "metadata": {},
   "source": [
    "## 正規讀套件的方法"
   ]
  },
  {
   "cell_type": "code",
   "execution_count": 1,
   "id": "c47fc835",
   "metadata": {},
   "outputs": [],
   "source": [
    "from numpy import sin"
   ]
  },
  {
   "cell_type": "code",
   "execution_count": 2,
   "id": "e8fa28da",
   "metadata": {},
   "outputs": [
    {
     "data": {
      "text/plain": [
       "0.8414709848078965"
      ]
     },
     "execution_count": 2,
     "metadata": {},
     "output_type": "execute_result"
    }
   ],
   "source": [
    "sin(1)"
   ]
  },
  {
   "cell_type": "code",
   "execution_count": 3,
   "id": "3de3da8f",
   "metadata": {},
   "outputs": [
    {
     "ename": "NameError",
     "evalue": "name 'cos' is not defined",
     "output_type": "error",
     "traceback": [
      "\u001b[1;31m---------------------------------------------------------------------------\u001b[0m",
      "\u001b[1;31mNameError\u001b[0m                                 Traceback (most recent call last)",
      "\u001b[1;32m~\\AppData\\Local\\Temp/ipykernel_8240/739082252.py\u001b[0m in \u001b[0;36m<module>\u001b[1;34m\u001b[0m\n\u001b[1;32m----> 1\u001b[1;33m \u001b[0mcos\u001b[0m\u001b[1;33m(\u001b[0m\u001b[1;36m1\u001b[0m\u001b[1;33m)\u001b[0m\u001b[1;33m\u001b[0m\u001b[1;33m\u001b[0m\u001b[0m\n\u001b[0m",
      "\u001b[1;31mNameError\u001b[0m: name 'cos' is not defined"
     ]
    }
   ],
   "source": [
    "cos(1)"
   ]
  },
  {
   "cell_type": "code",
   "execution_count": 4,
   "id": "5f30621f",
   "metadata": {},
   "outputs": [],
   "source": [
    "from numpy import *  #不建議的方法"
   ]
  },
  {
   "cell_type": "code",
   "execution_count": 5,
   "id": "dd1e4fed",
   "metadata": {},
   "outputs": [
    {
     "data": {
      "text/plain": [
       "0.5403023058681398"
      ]
     },
     "execution_count": 5,
     "metadata": {},
     "output_type": "execute_result"
    }
   ],
   "source": [
    "cos(1)"
   ]
  },
  {
   "cell_type": "code",
   "execution_count": 6,
   "id": "0ff2ee7f",
   "metadata": {},
   "outputs": [],
   "source": [
    "from random import *"
   ]
  },
  {
   "cell_type": "code",
   "execution_count": 7,
   "id": "78817aa9",
   "metadata": {},
   "outputs": [
    {
     "name": "stdout",
     "output_type": "stream",
     "text": [
      "1, 1, 6, 5, 8, 2, 3, 2, 1, 7, 3, 8, 7, 8, 9, 3, 6, 4, 10, 1, 3, 2, 1, 6, 1, 8, 10, 6, 5, 8, 8, 9, 8, 1, 3, 10, 7, 9, 3, 3, 7, 2, 6, 5, 3, 10, 5, 2, 7, 8, "
     ]
    }
   ],
   "source": [
    "for i in range(50): #會有10\n",
    "    print(randint(1,10),end=', ')"
   ]
  },
  {
   "cell_type": "code",
   "execution_count": 8,
   "id": "51fed49f",
   "metadata": {},
   "outputs": [],
   "source": [
    "from numpy.random import *"
   ]
  },
  {
   "cell_type": "code",
   "execution_count": 9,
   "id": "034348a3",
   "metadata": {},
   "outputs": [
    {
     "name": "stdout",
     "output_type": "stream",
     "text": [
      "8, 1, 7, 8, 1, 8, 2, 7, 5, 8, 4, 8, 3, 5, 2, 9, 2, 4, 6, 1, 3, 7, 8, 4, 7, 4, 7, 4, 9, 9, 9, 3, 7, 3, 5, 3, 5, 8, 9, 5, 2, 8, 5, 1, 7, 9, 5, 7, 9, 8, "
     ]
    }
   ],
   "source": [
    "for i in range(50):  #不會有10\n",
    "    print(randint(1,10),end=', ')"
   ]
  },
  {
   "cell_type": "code",
   "execution_count": 10,
   "id": "c3049ee3",
   "metadata": {},
   "outputs": [],
   "source": [
    "import numpy"
   ]
  },
  {
   "cell_type": "code",
   "execution_count": 11,
   "id": "3fcac8f1",
   "metadata": {},
   "outputs": [
    {
     "data": {
      "text/plain": [
       "0.8414709848078965"
      ]
     },
     "execution_count": 11,
     "metadata": {},
     "output_type": "execute_result"
    }
   ],
   "source": [
    "numpy.sin(1)"
   ]
  },
  {
   "cell_type": "code",
   "execution_count": 12,
   "id": "469ce028",
   "metadata": {},
   "outputs": [
    {
     "data": {
      "text/plain": [
       "0.5403023058681398"
      ]
     },
     "execution_count": 12,
     "metadata": {},
     "output_type": "execute_result"
    }
   ],
   "source": [
    "numpy.cos(1)"
   ]
  },
  {
   "cell_type": "code",
   "execution_count": 13,
   "id": "1ec93211",
   "metadata": {},
   "outputs": [],
   "source": [
    "import numpy as np #縮寫numpy"
   ]
  },
  {
   "cell_type": "markdown",
   "id": "5a144b26",
   "metadata": {},
   "source": [
    "## 以後打開python就先打這些"
   ]
  },
  {
   "cell_type": "code",
   "execution_count": 16,
   "id": "e610da50",
   "metadata": {},
   "outputs": [],
   "source": [
    "%matplotlib inline\n",
    "import numpy as np\n",
    "import matplotlib.pyplot as plt"
   ]
  },
  {
   "cell_type": "code",
   "execution_count": 17,
   "id": "2f4f8af9",
   "metadata": {},
   "outputs": [
    {
     "data": {
      "text/plain": [
       "[<matplotlib.lines.Line2D at 0x1401ddb4940>]"
      ]
     },
     "execution_count": 17,
     "metadata": {},
     "output_type": "execute_result"
    },
    {
     "data": {
      "image/png": "[encoded data removed]",
      "text/plain": [
       "<Figure size 432x288 with 1 Axes>"
      ]
     },
     "metadata": {
      "needs_background": "light"
     },
     "output_type": "display_data"
    }
   ],
   "source": [
    "plt.plot([3,-5,2,7,9,5,7,-1])"
   ]
  },
  {
   "cell_type": "code",
   "execution_count": 19,
   "id": "28b1ff5b",
   "metadata": {},
   "outputs": [
    {
     "data": {
      "text/plain": [
       "[<matplotlib.lines.Line2D at 0x1401e558c70>]"
      ]
     },
     "execution_count": 19,
     "metadata": {},
     "output_type": "execute_result"
    },
    {
     "data": {
      "image/png": "[encoded data removed]",
      "text/plain": [
       "<Figure size 432x288 with 1 Axes>"
      ]
     },
     "metadata": {
      "needs_background": "light"
     },
     "output_type": "display_data"
    }
   ],
   "source": [
    "plt.plot(np.random.randn(100))"
   ]
  },
  {
   "cell_type": "code",
   "execution_count": 20,
   "id": "5caaad3d",
   "metadata": {},
   "outputs": [],
   "source": [
    "p=[111,222,333,444]"
   ]
  },
  {
   "cell_type": "code",
   "execution_count": 21,
   "id": "e7773c58",
   "metadata": {},
   "outputs": [],
   "source": [
    "c=20.5"
   ]
  },
  {
   "cell_type": "code",
   "execution_count": 22,
   "id": "85892812",
   "metadata": {},
   "outputs": [
    {
     "name": "stdout",
     "output_type": "stream",
     "text": [
      "2275.5\n",
      "4551.0\n",
      "6826.5\n",
      "9102.0\n"
     ]
    }
   ],
   "source": [
    "for k in p:\n",
    "    print(k*c)"
   ]
  },
  {
   "cell_type": "code",
   "execution_count": 23,
   "id": "b29795e4",
   "metadata": {},
   "outputs": [],
   "source": [
    "result=[]"
   ]
  },
  {
   "cell_type": "code",
   "execution_count": 24,
   "id": "c7d45f78",
   "metadata": {},
   "outputs": [],
   "source": [
    "for k in p:\n",
    "    nt=k*c\n",
    "    result.append(nt)"
   ]
  },
  {
   "cell_type": "code",
   "execution_count": 25,
   "id": "e8009450",
   "metadata": {},
   "outputs": [
    {
     "data": {
      "text/plain": [
       "[2275.5, 4551.0, 6826.5, 9102.0]"
      ]
     },
     "execution_count": 25,
     "metadata": {},
     "output_type": "execute_result"
    }
   ],
   "source": [
    "result"
   ]
  },
  {
   "cell_type": "code",
   "execution_count": 26,
   "id": "58c7ab21",
   "metadata": {},
   "outputs": [],
   "source": [
    "P=np.array(p)"
   ]
  },
  {
   "cell_type": "code",
   "execution_count": 27,
   "id": "21359aaf",
   "metadata": {},
   "outputs": [
    {
     "data": {
      "text/plain": [
       "array([111, 222, 333, 444])"
      ]
     },
     "execution_count": 27,
     "metadata": {},
     "output_type": "execute_result"
    }
   ],
   "source": [
    "P"
   ]
  },
  {
   "cell_type": "code",
   "execution_count": 30,
   "id": "e82495c8",
   "metadata": {},
   "outputs": [
    {
     "ename": "TypeError",
     "evalue": "can't multiply sequence by non-int of type 'float'",
     "output_type": "error",
     "traceback": [
      "\u001b[1;31m---------------------------------------------------------------------------\u001b[0m",
      "\u001b[1;31mTypeError\u001b[0m                                 Traceback (most recent call last)",
      "\u001b[1;32m~\\AppData\\Local\\Temp/ipykernel_8240/4282641126.py\u001b[0m in \u001b[0;36m<module>\u001b[1;34m\u001b[0m\n\u001b[1;32m----> 1\u001b[1;33m \u001b[0mp\u001b[0m\u001b[1;33m*\u001b[0m\u001b[0mc\u001b[0m\u001b[1;33m\u001b[0m\u001b[1;33m\u001b[0m\u001b[0m\n\u001b[0m",
      "\u001b[1;31mTypeError\u001b[0m: can't multiply sequence by non-int of type 'float'"
     ]
    }
   ],
   "source": [
    "p*c"
   ]
  },
  {
   "cell_type": "code",
   "execution_count": 29,
   "id": "20b3de8f",
   "metadata": {},
   "outputs": [
    {
     "data": {
      "text/plain": [
       "array([2275.5, 4551. , 6826.5, 9102. ])"
      ]
     },
     "execution_count": 29,
     "metadata": {},
     "output_type": "execute_result"
    }
   ],
   "source": [
    "P*c"
   ]
  },
  {
   "cell_type": "code",
   "execution_count": 32,
   "id": "673303d5",
   "metadata": {},
   "outputs": [],
   "source": [
    "g=np.array([72,88,94,84])"
   ]
  },
  {
   "cell_type": "code",
   "execution_count": 33,
   "id": "f8cbccfe",
   "metadata": {},
   "outputs": [],
   "source": [
    "w=np.array([0.2,0.2,0.3,0.4])"
   ]
  },
  {
   "cell_type": "code",
   "execution_count": 34,
   "id": "1dea6468",
   "metadata": {},
   "outputs": [],
   "source": [
    "grade=g*w"
   ]
  },
  {
   "cell_type": "code",
   "execution_count": 35,
   "id": "4c32d8e7",
   "metadata": {},
   "outputs": [
    {
     "data": {
      "text/plain": [
       "array([14.4, 17.6, 28.2, 33.6])"
      ]
     },
     "execution_count": 35,
     "metadata": {},
     "output_type": "execute_result"
    }
   ],
   "source": [
    "grade"
   ]
  },
  {
   "cell_type": "code",
   "execution_count": 37,
   "id": "eddf9abf",
   "metadata": {},
   "outputs": [
    {
     "data": {
      "text/plain": [
       "93.80000000000001"
      ]
     },
     "execution_count": 37,
     "metadata": {},
     "output_type": "execute_result"
    }
   ],
   "source": [
    "grade.sum()"
   ]
  },
  {
   "cell_type": "code",
   "execution_count": 38,
   "id": "5cd03147",
   "metadata": {},
   "outputs": [
    {
     "data": {
      "text/plain": [
       "93.8"
      ]
     },
     "execution_count": 38,
     "metadata": {},
     "output_type": "execute_result"
    }
   ],
   "source": [
    "np.dot(g,w) #簡易版本"
   ]
  },
  {
   "cell_type": "code",
   "execution_count": 40,
   "id": "62ca5f2f",
   "metadata": {},
   "outputs": [],
   "source": [
    "g=np.array([[88,67,92],[88,79,90],[77,87,79],[89,94,92]])"
   ]
  },
  {
   "cell_type": "code",
   "execution_count": 43,
   "id": "b089a612",
   "metadata": {},
   "outputs": [],
   "source": [
    "w=np.array([0.2,0.3,0.4])"
   ]
  },
  {
   "cell_type": "code",
   "execution_count": 44,
   "id": "f98eb93b",
   "metadata": {},
   "outputs": [
    {
     "data": {
      "text/plain": [
       "array([74.5, 77.3, 73.1, 82.8])"
      ]
     },
     "execution_count": 44,
     "metadata": {},
     "output_type": "execute_result"
    }
   ],
   "source": [
    "np.dot(g,w)"
   ]
  },
  {
   "cell_type": "code",
   "execution_count": 46,
   "id": "82baef78",
   "metadata": {},
   "outputs": [],
   "source": [
    "A=np.random.randn(100)"
   ]
  },
  {
   "cell_type": "code",
   "execution_count": 47,
   "id": "0000755b",
   "metadata": {},
   "outputs": [
    {
     "data": {
      "text/plain": [
       "array([-0.01059898,  0.14881865, -0.15699317, -0.28276994, -0.10614995,\n",
       "       -1.39128211, -1.28792063,  0.28662339, -1.51157619,  1.07434374,\n",
       "        2.01932397,  1.56403041, -1.07665425,  0.41369797, -0.19919519,\n",
       "       -0.08704336, -0.14011296, -0.73831507,  0.6547651 ,  1.0644909 ,\n",
       "        1.59110095,  0.8865832 , -0.2212127 ,  1.67136065,  1.58450766,\n",
       "        1.02075195,  1.5290364 , -2.30290214,  0.18088931,  0.25047823,\n",
       "       -0.81840092, -0.44602418, -1.22346129, -0.35695703,  1.25757595,\n",
       "        0.71671923,  1.83919147, -1.93530216, -0.35960913, -1.02922522,\n",
       "       -0.53076393,  0.54674146, -0.58118932,  1.52388341,  0.02334015,\n",
       "        1.71087703,  2.2851766 , -0.4565326 ,  1.12244439,  0.71555013,\n",
       "       -2.59263203,  1.57608434,  0.47467638, -0.01640961, -0.02099851,\n",
       "       -0.21376424, -1.17903657,  1.4221154 , -0.18336038, -0.76590362,\n",
       "        1.52470882,  1.0454001 ,  1.91439504,  0.17176418, -0.53074212,\n",
       "       -1.0280328 , -2.40395951,  0.58130758, -2.0622263 , -1.01489086,\n",
       "        0.64792354, -0.54867928,  0.97309568,  0.14413553, -1.84125703,\n",
       "        0.27475009,  0.16807762,  1.33999039,  0.76629962, -0.67705426,\n",
       "       -0.68641097,  0.93885018, -0.80077402, -0.89007746, -1.63705915,\n",
       "       -0.69008299,  0.51349174,  0.94497798, -1.08711486,  1.28868668,\n",
       "        0.91154394, -0.87537669, -0.20904086, -1.61138398,  1.06681291,\n",
       "       -2.03378118,  1.23352722,  0.38892966,  0.17809899,  0.67930322])"
      ]
     },
     "execution_count": 47,
     "metadata": {},
     "output_type": "execute_result"
    }
   ],
   "source": [
    "A"
   ]
  },
  {
   "cell_type": "code",
   "execution_count": 48,
   "id": "f969b50c",
   "metadata": {},
   "outputs": [],
   "source": [
    "A=10*A+50"
   ]
  },
  {
   "cell_type": "code",
   "execution_count": 49,
   "id": "3ede62b0",
   "metadata": {},
   "outputs": [
    {
     "data": {
      "text/plain": [
       "array([49.89401018, 51.48818653, 48.43006833, 47.17230061, 48.93850054,\n",
       "       36.0871789 , 37.12079373, 52.86623394, 34.88423809, 60.74343742,\n",
       "       70.19323968, 65.6403041 , 39.23345752, 54.13697967, 48.00804813,\n",
       "       49.12956638, 48.59887043, 42.61684926, 56.54765096, 60.64490904,\n",
       "       65.91100954, 58.86583204, 47.78787296, 66.71360654, 65.8450766 ,\n",
       "       60.20751952, 65.29036401, 26.9709786 , 51.80889314, 52.50478227,\n",
       "       41.81599079, 45.53975816, 37.7653871 , 46.43042974, 62.57575946,\n",
       "       57.16719226, 68.39191471, 30.64697844, 46.40390874, 39.70774784,\n",
       "       44.69236073, 55.46741459, 44.18810685, 65.23883414, 50.23340148,\n",
       "       67.10877027, 72.85176599, 45.43467402, 61.22444392, 57.15550127,\n",
       "       24.07367971, 65.76084343, 54.74676383, 49.83590394, 49.7900149 ,\n",
       "       47.86235763, 38.20963435, 64.22115395, 48.16639618, 42.3409638 ,\n",
       "       65.24708817, 60.45400097, 69.14395042, 51.71764176, 44.69257875,\n",
       "       39.71967196, 25.96040494, 55.81307583, 29.37773695, 39.85109144,\n",
       "       56.47923544, 44.51320719, 59.73095678, 51.44135529, 31.58742972,\n",
       "       52.74750092, 51.68077625, 63.39990394, 57.6629962 , 43.22945741,\n",
       "       43.13589027, 59.38850178, 41.99225982, 41.09922544, 33.62940846,\n",
       "       43.09917013, 55.13491744, 59.44977978, 39.12885139, 62.88686684,\n",
       "       59.11543941, 41.24623308, 47.90959144, 33.88616019, 60.66812907,\n",
       "       29.6621882 , 62.33527217, 53.88929656, 51.7809899 , 56.79303218])"
      ]
     },
     "execution_count": 49,
     "metadata": {},
     "output_type": "execute_result"
    }
   ],
   "source": [
    "A"
   ]
  },
  {
   "cell_type": "code",
   "execution_count": 50,
   "id": "0084b448",
   "metadata": {},
   "outputs": [
    {
     "data": {
      "text/plain": [
       "(100,)"
      ]
     },
     "execution_count": 50,
     "metadata": {},
     "output_type": "execute_result"
    }
   ],
   "source": [
    "A.shape"
   ]
  },
  {
   "cell_type": "code",
   "execution_count": 51,
   "id": "70c30440",
   "metadata": {},
   "outputs": [],
   "source": [
    "A.shape=(5,20) #成起來要是100"
   ]
  },
  {
   "cell_type": "code",
   "execution_count": 52,
   "id": "34bcc784",
   "metadata": {},
   "outputs": [
    {
     "data": {
      "text/plain": [
       "array([[49.89401018, 51.48818653, 48.43006833, 47.17230061, 48.93850054,\n",
       "        36.0871789 , 37.12079373, 52.86623394, 34.88423809, 60.74343742,\n",
       "        70.19323968, 65.6403041 , 39.23345752, 54.13697967, 48.00804813,\n",
       "        49.12956638, 48.59887043, 42.61684926, 56.54765096, 60.64490904],\n",
       "       [65.91100954, 58.86583204, 47.78787296, 66.71360654, 65.8450766 ,\n",
       "        60.20751952, 65.29036401, 26.9709786 , 51.80889314, 52.50478227,\n",
       "        41.81599079, 45.53975816, 37.7653871 , 46.43042974, 62.57575946,\n",
       "        57.16719226, 68.39191471, 30.64697844, 46.40390874, 39.70774784],\n",
       "       [44.69236073, 55.46741459, 44.18810685, 65.23883414, 50.23340148,\n",
       "        67.10877027, 72.85176599, 45.43467402, 61.22444392, 57.15550127,\n",
       "        24.07367971, 65.76084343, 54.74676383, 49.83590394, 49.7900149 ,\n",
       "        47.86235763, 38.20963435, 64.22115395, 48.16639618, 42.3409638 ],\n",
       "       [65.24708817, 60.45400097, 69.14395042, 51.71764176, 44.69257875,\n",
       "        39.71967196, 25.96040494, 55.81307583, 29.37773695, 39.85109144,\n",
       "        56.47923544, 44.51320719, 59.73095678, 51.44135529, 31.58742972,\n",
       "        52.74750092, 51.68077625, 63.39990394, 57.6629962 , 43.22945741],\n",
       "       [43.13589027, 59.38850178, 41.99225982, 41.09922544, 33.62940846,\n",
       "        43.09917013, 55.13491744, 59.44977978, 39.12885139, 62.88686684,\n",
       "        59.11543941, 41.24623308, 47.90959144, 33.88616019, 60.66812907,\n",
       "        29.6621882 , 62.33527217, 53.88929656, 51.7809899 , 56.79303218]])"
      ]
     },
     "execution_count": 52,
     "metadata": {},
     "output_type": "execute_result"
    }
   ],
   "source": [
    "A"
   ]
  },
  {
   "cell_type": "code",
   "execution_count": 53,
   "id": "4eebe742",
   "metadata": {},
   "outputs": [
    {
     "data": {
      "text/plain": [
       "array([[49.89401018],\n",
       "       [51.48818653],\n",
       "       [48.43006833],\n",
       "       [47.17230061],\n",
       "       [48.93850054],\n",
       "       [36.0871789 ],\n",
       "       [37.12079373],\n",
       "       [52.86623394],\n",
       "       [34.88423809],\n",
       "       [60.74343742],\n",
       "       [70.19323968],\n",
       "       [65.6403041 ],\n",
       "       [39.23345752],\n",
       "       [54.13697967],\n",
       "       [48.00804813],\n",
       "       [49.12956638],\n",
       "       [48.59887043],\n",
       "       [42.61684926],\n",
       "       [56.54765096],\n",
       "       [60.64490904],\n",
       "       [65.91100954],\n",
       "       [58.86583204],\n",
       "       [47.78787296],\n",
       "       [66.71360654],\n",
       "       [65.8450766 ],\n",
       "       [60.20751952],\n",
       "       [65.29036401],\n",
       "       [26.9709786 ],\n",
       "       [51.80889314],\n",
       "       [52.50478227],\n",
       "       [41.81599079],\n",
       "       [45.53975816],\n",
       "       [37.7653871 ],\n",
       "       [46.43042974],\n",
       "       [62.57575946],\n",
       "       [57.16719226],\n",
       "       [68.39191471],\n",
       "       [30.64697844],\n",
       "       [46.40390874],\n",
       "       [39.70774784],\n",
       "       [44.69236073],\n",
       "       [55.46741459],\n",
       "       [44.18810685],\n",
       "       [65.23883414],\n",
       "       [50.23340148],\n",
       "       [67.10877027],\n",
       "       [72.85176599],\n",
       "       [45.43467402],\n",
       "       [61.22444392],\n",
       "       [57.15550127],\n",
       "       [24.07367971],\n",
       "       [65.76084343],\n",
       "       [54.74676383],\n",
       "       [49.83590394],\n",
       "       [49.7900149 ],\n",
       "       [47.86235763],\n",
       "       [38.20963435],\n",
       "       [64.22115395],\n",
       "       [48.16639618],\n",
       "       [42.3409638 ],\n",
       "       [65.24708817],\n",
       "       [60.45400097],\n",
       "       [69.14395042],\n",
       "       [51.71764176],\n",
       "       [44.69257875],\n",
       "       [39.71967196],\n",
       "       [25.96040494],\n",
       "       [55.81307583],\n",
       "       [29.37773695],\n",
       "       [39.85109144],\n",
       "       [56.47923544],\n",
       "       [44.51320719],\n",
       "       [59.73095678],\n",
       "       [51.44135529],\n",
       "       [31.58742972],\n",
       "       [52.74750092],\n",
       "       [51.68077625],\n",
       "       [63.39990394],\n",
       "       [57.6629962 ],\n",
       "       [43.22945741],\n",
       "       [43.13589027],\n",
       "       [59.38850178],\n",
       "       [41.99225982],\n",
       "       [41.09922544],\n",
       "       [33.62940846],\n",
       "       [43.09917013],\n",
       "       [55.13491744],\n",
       "       [59.44977978],\n",
       "       [39.12885139],\n",
       "       [62.88686684],\n",
       "       [59.11543941],\n",
       "       [41.24623308],\n",
       "       [47.90959144],\n",
       "       [33.88616019],\n",
       "       [60.66812907],\n",
       "       [29.6621882 ],\n",
       "       [62.33527217],\n",
       "       [53.88929656],\n",
       "       [51.7809899 ],\n",
       "       [56.79303218]])"
      ]
     },
     "execution_count": 53,
     "metadata": {},
     "output_type": "execute_result"
    }
   ],
   "source": [
    "A.reshape(100,1) #reshape是產生新的，不會改到舊的"
   ]
  },
  {
   "cell_type": "code",
   "execution_count": 54,
   "id": "78679ca6",
   "metadata": {},
   "outputs": [
    {
     "data": {
      "text/plain": [
       "array([[49.89401018, 51.48818653, 48.43006833, 47.17230061, 48.93850054,\n",
       "        36.0871789 , 37.12079373, 52.86623394, 34.88423809, 60.74343742,\n",
       "        70.19323968, 65.6403041 , 39.23345752, 54.13697967, 48.00804813,\n",
       "        49.12956638, 48.59887043, 42.61684926, 56.54765096, 60.64490904],\n",
       "       [65.91100954, 58.86583204, 47.78787296, 66.71360654, 65.8450766 ,\n",
       "        60.20751952, 65.29036401, 26.9709786 , 51.80889314, 52.50478227,\n",
       "        41.81599079, 45.53975816, 37.7653871 , 46.43042974, 62.57575946,\n",
       "        57.16719226, 68.39191471, 30.64697844, 46.40390874, 39.70774784],\n",
       "       [44.69236073, 55.46741459, 44.18810685, 65.23883414, 50.23340148,\n",
       "        67.10877027, 72.85176599, 45.43467402, 61.22444392, 57.15550127,\n",
       "        24.07367971, 65.76084343, 54.74676383, 49.83590394, 49.7900149 ,\n",
       "        47.86235763, 38.20963435, 64.22115395, 48.16639618, 42.3409638 ],\n",
       "       [65.24708817, 60.45400097, 69.14395042, 51.71764176, 44.69257875,\n",
       "        39.71967196, 25.96040494, 55.81307583, 29.37773695, 39.85109144,\n",
       "        56.47923544, 44.51320719, 59.73095678, 51.44135529, 31.58742972,\n",
       "        52.74750092, 51.68077625, 63.39990394, 57.6629962 , 43.22945741],\n",
       "       [43.13589027, 59.38850178, 41.99225982, 41.09922544, 33.62940846,\n",
       "        43.09917013, 55.13491744, 59.44977978, 39.12885139, 62.88686684,\n",
       "        59.11543941, 41.24623308, 47.90959144, 33.88616019, 60.66812907,\n",
       "        29.6621882 , 62.33527217, 53.88929656, 51.7809899 , 56.79303218]])"
      ]
     },
     "execution_count": 54,
     "metadata": {},
     "output_type": "execute_result"
    }
   ],
   "source": [
    "A"
   ]
  },
  {
   "cell_type": "code",
   "execution_count": 60,
   "id": "657cda41",
   "metadata": {},
   "outputs": [],
   "source": [
    "xy=[[x,y]for x in range(10)for y in range(10)]"
   ]
  },
  {
   "cell_type": "code",
   "execution_count": 61,
   "id": "33306909",
   "metadata": {},
   "outputs": [
    {
     "data": {
      "text/plain": [
       "[[0, 0],\n",
       " [0, 1],\n",
       " [0, 2],\n",
       " [0, 3],\n",
       " [0, 4],\n",
       " [0, 5],\n",
       " [0, 6],\n",
       " [0, 7],\n",
       " [0, 8],\n",
       " [0, 9],\n",
       " [1, 0],\n",
       " [1, 1],\n",
       " [1, 2],\n",
       " [1, 3],\n",
       " [1, 4],\n",
       " [1, 5],\n",
       " [1, 6],\n",
       " [1, 7],\n",
       " [1, 8],\n",
       " [1, 9],\n",
       " [2, 0],\n",
       " [2, 1],\n",
       " [2, 2],\n",
       " [2, 3],\n",
       " [2, 4],\n",
       " [2, 5],\n",
       " [2, 6],\n",
       " [2, 7],\n",
       " [2, 8],\n",
       " [2, 9],\n",
       " [3, 0],\n",
       " [3, 1],\n",
       " [3, 2],\n",
       " [3, 3],\n",
       " [3, 4],\n",
       " [3, 5],\n",
       " [3, 6],\n",
       " [3, 7],\n",
       " [3, 8],\n",
       " [3, 9],\n",
       " [4, 0],\n",
       " [4, 1],\n",
       " [4, 2],\n",
       " [4, 3],\n",
       " [4, 4],\n",
       " [4, 5],\n",
       " [4, 6],\n",
       " [4, 7],\n",
       " [4, 8],\n",
       " [4, 9],\n",
       " [5, 0],\n",
       " [5, 1],\n",
       " [5, 2],\n",
       " [5, 3],\n",
       " [5, 4],\n",
       " [5, 5],\n",
       " [5, 6],\n",
       " [5, 7],\n",
       " [5, 8],\n",
       " [5, 9],\n",
       " [6, 0],\n",
       " [6, 1],\n",
       " [6, 2],\n",
       " [6, 3],\n",
       " [6, 4],\n",
       " [6, 5],\n",
       " [6, 6],\n",
       " [6, 7],\n",
       " [6, 8],\n",
       " [6, 9],\n",
       " [7, 0],\n",
       " [7, 1],\n",
       " [7, 2],\n",
       " [7, 3],\n",
       " [7, 4],\n",
       " [7, 5],\n",
       " [7, 6],\n",
       " [7, 7],\n",
       " [7, 8],\n",
       " [7, 9],\n",
       " [8, 0],\n",
       " [8, 1],\n",
       " [8, 2],\n",
       " [8, 3],\n",
       " [8, 4],\n",
       " [8, 5],\n",
       " [8, 6],\n",
       " [8, 7],\n",
       " [8, 8],\n",
       " [8, 9],\n",
       " [9, 0],\n",
       " [9, 1],\n",
       " [9, 2],\n",
       " [9, 3],\n",
       " [9, 4],\n",
       " [9, 5],\n",
       " [9, 6],\n",
       " [9, 7],\n",
       " [9, 8],\n",
       " [9, 9]]"
      ]
     },
     "execution_count": 61,
     "metadata": {},
     "output_type": "execute_result"
    }
   ],
   "source": [
    "xy"
   ]
  },
  {
   "cell_type": "code",
   "execution_count": 62,
   "id": "0dbe4e41",
   "metadata": {},
   "outputs": [],
   "source": [
    "xy=np.array(xy)"
   ]
  },
  {
   "cell_type": "code",
   "execution_count": 63,
   "id": "76b117ea",
   "metadata": {},
   "outputs": [
    {
     "data": {
      "text/plain": [
       "array([[0, 0],\n",
       "       [0, 1],\n",
       "       [0, 2],\n",
       "       [0, 3],\n",
       "       [0, 4],\n",
       "       [0, 5],\n",
       "       [0, 6],\n",
       "       [0, 7],\n",
       "       [0, 8],\n",
       "       [0, 9],\n",
       "       [1, 0],\n",
       "       [1, 1],\n",
       "       [1, 2],\n",
       "       [1, 3],\n",
       "       [1, 4],\n",
       "       [1, 5],\n",
       "       [1, 6],\n",
       "       [1, 7],\n",
       "       [1, 8],\n",
       "       [1, 9],\n",
       "       [2, 0],\n",
       "       [2, 1],\n",
       "       [2, 2],\n",
       "       [2, 3],\n",
       "       [2, 4],\n",
       "       [2, 5],\n",
       "       [2, 6],\n",
       "       [2, 7],\n",
       "       [2, 8],\n",
       "       [2, 9],\n",
       "       [3, 0],\n",
       "       [3, 1],\n",
       "       [3, 2],\n",
       "       [3, 3],\n",
       "       [3, 4],\n",
       "       [3, 5],\n",
       "       [3, 6],\n",
       "       [3, 7],\n",
       "       [3, 8],\n",
       "       [3, 9],\n",
       "       [4, 0],\n",
       "       [4, 1],\n",
       "       [4, 2],\n",
       "       [4, 3],\n",
       "       [4, 4],\n",
       "       [4, 5],\n",
       "       [4, 6],\n",
       "       [4, 7],\n",
       "       [4, 8],\n",
       "       [4, 9],\n",
       "       [5, 0],\n",
       "       [5, 1],\n",
       "       [5, 2],\n",
       "       [5, 3],\n",
       "       [5, 4],\n",
       "       [5, 5],\n",
       "       [5, 6],\n",
       "       [5, 7],\n",
       "       [5, 8],\n",
       "       [5, 9],\n",
       "       [6, 0],\n",
       "       [6, 1],\n",
       "       [6, 2],\n",
       "       [6, 3],\n",
       "       [6, 4],\n",
       "       [6, 5],\n",
       "       [6, 6],\n",
       "       [6, 7],\n",
       "       [6, 8],\n",
       "       [6, 9],\n",
       "       [7, 0],\n",
       "       [7, 1],\n",
       "       [7, 2],\n",
       "       [7, 3],\n",
       "       [7, 4],\n",
       "       [7, 5],\n",
       "       [7, 6],\n",
       "       [7, 7],\n",
       "       [7, 8],\n",
       "       [7, 9],\n",
       "       [8, 0],\n",
       "       [8, 1],\n",
       "       [8, 2],\n",
       "       [8, 3],\n",
       "       [8, 4],\n",
       "       [8, 5],\n",
       "       [8, 6],\n",
       "       [8, 7],\n",
       "       [8, 8],\n",
       "       [8, 9],\n",
       "       [9, 0],\n",
       "       [9, 1],\n",
       "       [9, 2],\n",
       "       [9, 3],\n",
       "       [9, 4],\n",
       "       [9, 5],\n",
       "       [9, 6],\n",
       "       [9, 7],\n",
       "       [9, 8],\n",
       "       [9, 9]])"
      ]
     },
     "execution_count": 63,
     "metadata": {},
     "output_type": "execute_result"
    }
   ],
   "source": [
    "xy"
   ]
  },
  {
   "cell_type": "code",
   "execution_count": 64,
   "id": "c9c01b63",
   "metadata": {},
   "outputs": [
    {
     "data": {
      "text/plain": [
       "array([0., 0., 0., 0., 0., 0., 0., 0., 0., 0.])"
      ]
     },
     "execution_count": 64,
     "metadata": {},
     "output_type": "execute_result"
    }
   ],
   "source": [
    "np.zeros(10)"
   ]
  },
  {
   "cell_type": "code",
   "execution_count": 66,
   "id": "58a660fb",
   "metadata": {},
   "outputs": [
    {
     "data": {
      "text/plain": [
       "array([[0., 0., 0., 0.],\n",
       "       [0., 0., 0., 0.],\n",
       "       [0., 0., 0., 0.]])"
      ]
     },
     "execution_count": 66,
     "metadata": {},
     "output_type": "execute_result"
    }
   ],
   "source": [
    "np.zeros((3,4))"
   ]
  },
  {
   "cell_type": "code",
   "execution_count": 67,
   "id": "c9432046",
   "metadata": {},
   "outputs": [
    {
     "data": {
      "text/plain": [
       "array([1., 1., 1., 1., 1.])"
      ]
     },
     "execution_count": 67,
     "metadata": {},
     "output_type": "execute_result"
    }
   ],
   "source": [
    "np.ones(5)"
   ]
  },
  {
   "cell_type": "code",
   "execution_count": 68,
   "id": "41cd4f11",
   "metadata": {},
   "outputs": [
    {
     "data": {
      "text/plain": [
       "array([[1., 0., 0., 0., 0.],\n",
       "       [0., 1., 0., 0., 0.],\n",
       "       [0., 0., 1., 0., 0.],\n",
       "       [0., 0., 0., 1., 0.],\n",
       "       [0., 0., 0., 0., 1.]])"
      ]
     },
     "execution_count": 68,
     "metadata": {},
     "output_type": "execute_result"
    }
   ],
   "source": [
    "np.eye(5)"
   ]
  },
  {
   "cell_type": "code",
   "execution_count": 69,
   "id": "0cbab62f",
   "metadata": {},
   "outputs": [],
   "source": [
    "y=np.random.rand(50)"
   ]
  },
  {
   "cell_type": "code",
   "execution_count": 70,
   "id": "133853fb",
   "metadata": {},
   "outputs": [
    {
     "data": {
      "text/plain": [
       "[<matplotlib.lines.Line2D at 0x1401f508460>]"
      ]
     },
     "execution_count": 70,
     "metadata": {},
     "output_type": "execute_result"
    },
    {
     "data": {
      "image/png": "[encoded data removed]",
      "text/plain": [
       "<Figure size 432x288 with 1 Axes>"
      ]
     },
     "metadata": {
      "needs_background": "light"
     },
     "output_type": "display_data"
    }
   ],
   "source": [
    "plt.plot(y)"
   ]
  },
  {
   "cell_type": "code",
   "execution_count": 73,
   "id": "e56e1a5a",
   "metadata": {},
   "outputs": [],
   "source": [
    "x=np.linspace(0,10,100)"
   ]
  },
  {
   "cell_type": "code",
   "execution_count": 74,
   "id": "f8438146",
   "metadata": {},
   "outputs": [
    {
     "data": {
      "text/plain": [
       "array([ 0.        ,  0.1010101 ,  0.2020202 ,  0.3030303 ,  0.4040404 ,\n",
       "        0.50505051,  0.60606061,  0.70707071,  0.80808081,  0.90909091,\n",
       "        1.01010101,  1.11111111,  1.21212121,  1.31313131,  1.41414141,\n",
       "        1.51515152,  1.61616162,  1.71717172,  1.81818182,  1.91919192,\n",
       "        2.02020202,  2.12121212,  2.22222222,  2.32323232,  2.42424242,\n",
       "        2.52525253,  2.62626263,  2.72727273,  2.82828283,  2.92929293,\n",
       "        3.03030303,  3.13131313,  3.23232323,  3.33333333,  3.43434343,\n",
       "        3.53535354,  3.63636364,  3.73737374,  3.83838384,  3.93939394,\n",
       "        4.04040404,  4.14141414,  4.24242424,  4.34343434,  4.44444444,\n",
       "        4.54545455,  4.64646465,  4.74747475,  4.84848485,  4.94949495,\n",
       "        5.05050505,  5.15151515,  5.25252525,  5.35353535,  5.45454545,\n",
       "        5.55555556,  5.65656566,  5.75757576,  5.85858586,  5.95959596,\n",
       "        6.06060606,  6.16161616,  6.26262626,  6.36363636,  6.46464646,\n",
       "        6.56565657,  6.66666667,  6.76767677,  6.86868687,  6.96969697,\n",
       "        7.07070707,  7.17171717,  7.27272727,  7.37373737,  7.47474747,\n",
       "        7.57575758,  7.67676768,  7.77777778,  7.87878788,  7.97979798,\n",
       "        8.08080808,  8.18181818,  8.28282828,  8.38383838,  8.48484848,\n",
       "        8.58585859,  8.68686869,  8.78787879,  8.88888889,  8.98989899,\n",
       "        9.09090909,  9.19191919,  9.29292929,  9.39393939,  9.49494949,\n",
       "        9.5959596 ,  9.6969697 ,  9.7979798 ,  9.8989899 , 10.        ])"
      ]
     },
     "execution_count": 74,
     "metadata": {},
     "output_type": "execute_result"
    }
   ],
   "source": [
    "x"
   ]
  },
  {
   "cell_type": "code",
   "execution_count": 76,
   "id": "ea498ceb",
   "metadata": {},
   "outputs": [
    {
     "data": {
      "text/plain": [
       "[<matplotlib.lines.Line2D at 0x1401f5d9bb0>]"
      ]
     },
     "execution_count": 76,
     "metadata": {},
     "output_type": "execute_result"
    },
    {
     "data": {
      "image/png": "[encoded data removed]",
      "text/plain": [
       "<Figure size 432x288 with 1 Axes>"
      ]
     },
     "metadata": {
      "needs_background": "light"
     },
     "output_type": "display_data"
    }
   ],
   "source": [
    "plt.plot(x,np.sin(x))"
   ]
  },
  {
   "cell_type": "code",
   "execution_count": 77,
   "id": "bd1bf92d",
   "metadata": {},
   "outputs": [
    {
     "data": {
      "text/plain": [
       "[<matplotlib.lines.Line2D at 0x1401f64f5b0>]"
      ]
     },
     "execution_count": 77,
     "metadata": {},
     "output_type": "execute_result"
    },
    {
     "data": {
      "image/png": "[encoded data removed]",
      "text/plain": [
       "<Figure size 432x288 with 1 Axes>"
      ]
     },
     "metadata": {
      "needs_background": "light"
     },
     "output_type": "display_data"
    }
   ],
   "source": [
    "plt.plot(x,np.sin(x))\n",
    "plt.plot(x,np.cos(x))"
   ]
  },
  {
   "cell_type": "code",
   "execution_count": 78,
   "id": "cf792890",
   "metadata": {},
   "outputs": [],
   "source": [
    "L=np.array([222,3,-7,99,446,78])"
   ]
  },
  {
   "cell_type": "code",
   "execution_count": 79,
   "id": "6ae9cf4e",
   "metadata": {},
   "outputs": [
    {
     "data": {
      "text/plain": [
       "array([False, False,  True, False, False, False])"
      ]
     },
     "execution_count": 79,
     "metadata": {},
     "output_type": "execute_result"
    }
   ],
   "source": [
    "L<0"
   ]
  },
  {
   "cell_type": "code",
   "execution_count": 80,
   "id": "768fa138",
   "metadata": {},
   "outputs": [
    {
     "data": {
      "text/plain": [
       "222"
      ]
     },
     "execution_count": 80,
     "metadata": {},
     "output_type": "execute_result"
    }
   ],
   "source": [
    "L[0]"
   ]
  },
  {
   "cell_type": "code",
   "execution_count": 81,
   "id": "cdac4137",
   "metadata": {},
   "outputs": [
    {
     "data": {
      "text/plain": [
       "array([-7, 99])"
      ]
     },
     "execution_count": 81,
     "metadata": {},
     "output_type": "execute_result"
    }
   ],
   "source": [
    "L[2:4]"
   ]
  },
  {
   "cell_type": "code",
   "execution_count": 82,
   "id": "533d86f1",
   "metadata": {},
   "outputs": [
    {
     "data": {
      "text/plain": [
       "array([-7])"
      ]
     },
     "execution_count": 82,
     "metadata": {},
     "output_type": "execute_result"
    }
   ],
   "source": [
    "L[L<0]"
   ]
  },
  {
   "cell_type": "code",
   "execution_count": 83,
   "id": "0635facc",
   "metadata": {},
   "outputs": [
    {
     "data": {
      "text/plain": [
       "array([222,   3,  99, 446,  78])"
      ]
     },
     "execution_count": 83,
     "metadata": {},
     "output_type": "execute_result"
    }
   ],
   "source": [
    "L[L>0]"
   ]
  },
  {
   "cell_type": "code",
   "execution_count": 84,
   "id": "16596758",
   "metadata": {},
   "outputs": [
    {
     "data": {
      "text/plain": [
       "[<matplotlib.lines.Line2D at 0x1401f6c20a0>]"
      ]
     },
     "execution_count": 84,
     "metadata": {},
     "output_type": "execute_result"
    },
    {
     "data": {
      "image/png": "[encoded data removed]",
      "text/plain": [
       "<Figure size 432x288 with 1 Axes>"
      ]
     },
     "metadata": {
      "needs_background": "light"
     },
     "output_type": "display_data"
    }
   ],
   "source": [
    "x=np.linspace(-5,5,100)\n",
    "y=np.sinc(x)\n",
    "plt.plot(x,y)"
   ]
  },
  {
   "cell_type": "code",
   "execution_count": 85,
   "id": "c4ed7511",
   "metadata": {},
   "outputs": [
    {
     "data": {
      "text/plain": [
       "[<matplotlib.lines.Line2D at 0x1401f725790>]"
      ]
     },
     "execution_count": 85,
     "metadata": {},
     "output_type": "execute_result"
    },
    {
     "data": {
      "image/png": "[encoded data removed]",
      "text/plain": [
       "<Figure size 432x288 with 1 Axes>"
      ]
     },
     "metadata": {
      "needs_background": "light"
     },
     "output_type": "display_data"
    }
   ],
   "source": [
    "plt.plot(x,y)\n",
    "plt.plot(x[y>0],y[y>0],'*')"
   ]
  }
 ],
 "metadata": {
  "kernelspec": {
   "display_name": "Python 3 (ipykernel)",
   "language": "python",
   "name": "python3"
  },
  "language_info": {
   "codemirror_mode": {
    "name": "ipython",
    "version": 3
   },
   "file_extension": ".py",
   "mimetype": "text/x-python",
   "name": "python",
   "nbconvert_exporter": "python",
   "pygments_lexer": "ipython3",
   "version": "3.9.7"
  }
 },
 "nbformat": 4,
 "nbformat_minor": 5
}
