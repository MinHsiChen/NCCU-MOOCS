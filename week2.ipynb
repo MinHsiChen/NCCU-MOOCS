{
 "cells": [
  {
   "cell_type": "code",
   "execution_count": 1,
   "id": "e4389daf",
   "metadata": {},
   "outputs": [
    {
     "data": {
      "text/plain": [
       "True"
      ]
     },
     "execution_count": 1,
     "metadata": {},
     "output_type": "execute_result"
    }
   ],
   "source": [
    "3<6"
   ]
  },
  {
   "cell_type": "code",
   "execution_count": 2,
   "id": "d2aad918",
   "metadata": {},
   "outputs": [
    {
     "data": {
      "text/plain": [
       "False"
      ]
     },
     "execution_count": 2,
     "metadata": {},
     "output_type": "execute_result"
    }
   ],
   "source": [
    "5>7"
   ]
  },
  {
   "cell_type": "code",
   "execution_count": 3,
   "id": "1739603e",
   "metadata": {},
   "outputs": [],
   "source": [
    "s=0"
   ]
  },
  {
   "cell_type": "code",
   "execution_count": 4,
   "id": "d901d430",
   "metadata": {},
   "outputs": [],
   "source": [
    "s=s+1"
   ]
  },
  {
   "cell_type": "code",
   "execution_count": 5,
   "id": "f3db4d41",
   "metadata": {},
   "outputs": [
    {
     "data": {
      "text/plain": [
       "1"
      ]
     },
     "execution_count": 5,
     "metadata": {},
     "output_type": "execute_result"
    }
   ],
   "source": [
    "s"
   ]
  },
  {
   "cell_type": "markdown",
   "id": "4a2e8614",
   "metadata": {},
   "source": [
    "## 迴圈"
   ]
  },
  {
   "cell_type": "code",
   "execution_count": 6,
   "id": "31a20149",
   "metadata": {},
   "outputs": [
    {
     "name": "stdout",
     "output_type": "stream",
     "text": [
      "*\n",
      "**\n",
      "***\n",
      "****\n"
     ]
    }
   ],
   "source": [
    "s=1\n",
    "while s<5:\n",
    "    print('*'*s)\n",
    "    s=s+1\n"
   ]
  },
  {
   "cell_type": "markdown",
   "id": "c2d35483",
   "metadata": {},
   "source": [
    "## 拍拍機器人"
   ]
  },
  {
   "cell_type": "code",
   "execution_count": 7,
   "id": "bcbd4c4c",
   "metadata": {},
   "outputs": [
    {
     "name": "stdout",
     "output_type": "stream",
     "text": [
      ">> 好耶\n",
      "拍拍\n",
      ">> bye\n",
      "拍拍\n"
     ]
    }
   ],
   "source": [
    "mes=\"\"\n",
    "while mes!=\"bye\":\n",
    "    mes=input(\">> \")\n",
    "    print(\"拍拍\")"
   ]
  },
  {
   "cell_type": "markdown",
   "id": "0f6aa18d",
   "metadata": {},
   "source": [
    "## 字串格式化"
   ]
  },
  {
   "cell_type": "code",
   "execution_count": 8,
   "id": "ba91acf5",
   "metadata": {},
   "outputs": [],
   "source": [
    "name='陳旻熙'\n",
    "place='新竹'"
   ]
  },
  {
   "cell_type": "code",
   "execution_count": 9,
   "id": "2e77d618",
   "metadata": {},
   "outputs": [],
   "source": [
    "mes='你好，來自'+place+'的'+name+'!'"
   ]
  },
  {
   "cell_type": "code",
   "execution_count": 10,
   "id": "4ef12104",
   "metadata": {},
   "outputs": [
    {
     "name": "stdout",
     "output_type": "stream",
     "text": [
      "你好，來自新竹的陳旻熙!\n"
     ]
    }
   ],
   "source": [
    "print(mes)"
   ]
  },
  {
   "cell_type": "code",
   "execution_count": 11,
   "id": "cace3e76",
   "metadata": {},
   "outputs": [],
   "source": [
    "mes='你好，來自{}的{}!'.format(place,name)"
   ]
  },
  {
   "cell_type": "code",
   "execution_count": 12,
   "id": "a61732ef",
   "metadata": {},
   "outputs": [
    {
     "name": "stdout",
     "output_type": "stream",
     "text": [
      "你好，來自新竹的陳旻熙!\n"
     ]
    }
   ],
   "source": [
    "print(mes)"
   ]
  },
  {
   "cell_type": "code",
   "execution_count": 13,
   "id": "70e7b2d4",
   "metadata": {},
   "outputs": [
    {
     "name": "stdout",
     "output_type": "stream",
     "text": [
      "200合台幣6100.0元\n"
     ]
    }
   ],
   "source": [
    "m=200\n",
    "print('{}合台幣{}元'.format(m,m*30.5))"
   ]
  },
  {
   "cell_type": "markdown",
   "id": "36906c7f",
   "metadata": {},
   "source": [
    "## 函數基本寫法"
   ]
  },
  {
   "cell_type": "code",
   "execution_count": 14,
   "id": "9ff96445",
   "metadata": {},
   "outputs": [],
   "source": [
    "def square(x):\n",
    "    return x**2 #return會回傳數據，print只是印出來"
   ]
  },
  {
   "cell_type": "code",
   "execution_count": 15,
   "id": "f55dc0fa",
   "metadata": {},
   "outputs": [
    {
     "data": {
      "text/plain": [
       "36"
      ]
     },
     "execution_count": 15,
     "metadata": {},
     "output_type": "execute_result"
    }
   ],
   "source": [
    "square(6)"
   ]
  },
  {
   "cell_type": "code",
   "execution_count": 16,
   "id": "72a1f033",
   "metadata": {},
   "outputs": [],
   "source": [
    "def haha(name,place):\n",
    "    mes='你好，來自{}的{}!'.format(place,name)\n",
    "    return mes"
   ]
  },
  {
   "cell_type": "code",
   "execution_count": 17,
   "id": "c356d1ee",
   "metadata": {},
   "outputs": [
    {
     "data": {
      "text/plain": [
       "'你好，來自新竹的陳旻熙!'"
      ]
     },
     "execution_count": 17,
     "metadata": {},
     "output_type": "execute_result"
    }
   ],
   "source": [
    "haha('陳旻熙','新竹')"
   ]
  },
  {
   "cell_type": "code",
   "execution_count": 18,
   "id": "b5d7a1f2",
   "metadata": {},
   "outputs": [],
   "source": [
    "L=[3,-5,6,8,20]"
   ]
  },
  {
   "cell_type": "code",
   "execution_count": 19,
   "id": "29c1d3f7",
   "metadata": {},
   "outputs": [
    {
     "data": {
      "text/plain": [
       "[3, -5, 6, 8, 20]"
      ]
     },
     "execution_count": 19,
     "metadata": {},
     "output_type": "execute_result"
    }
   ],
   "source": [
    "L"
   ]
  },
  {
   "cell_type": "code",
   "execution_count": 20,
   "id": "8a4fe682",
   "metadata": {},
   "outputs": [
    {
     "data": {
      "text/plain": [
       "3"
      ]
     },
     "execution_count": 20,
     "metadata": {},
     "output_type": "execute_result"
    }
   ],
   "source": [
    "L[0]"
   ]
  },
  {
   "cell_type": "code",
   "execution_count": 21,
   "id": "57b9a9c3",
   "metadata": {},
   "outputs": [
    {
     "data": {
      "text/plain": [
       "8"
      ]
     },
     "execution_count": 21,
     "metadata": {},
     "output_type": "execute_result"
    }
   ],
   "source": [
    "L[3]"
   ]
  },
  {
   "cell_type": "code",
   "execution_count": 22,
   "id": "55f60d95",
   "metadata": {},
   "outputs": [
    {
     "data": {
      "text/plain": [
       "20"
      ]
     },
     "execution_count": 22,
     "metadata": {},
     "output_type": "execute_result"
    }
   ],
   "source": [
    "L[-1]"
   ]
  },
  {
   "cell_type": "code",
   "execution_count": 23,
   "id": "eb90c5aa",
   "metadata": {},
   "outputs": [
    {
     "data": {
      "text/plain": [
       "[-5, 6]"
      ]
     },
     "execution_count": 23,
     "metadata": {},
     "output_type": "execute_result"
    }
   ],
   "source": [
    "L[1:3]"
   ]
  },
  {
   "cell_type": "code",
   "execution_count": 24,
   "id": "4d1b72f9",
   "metadata": {},
   "outputs": [
    {
     "data": {
      "text/plain": [
       "[-5, 6, 8]"
      ]
     },
     "execution_count": 24,
     "metadata": {},
     "output_type": "execute_result"
    }
   ],
   "source": [
    "L[1:4]"
   ]
  },
  {
   "cell_type": "code",
   "execution_count": 25,
   "id": "bd5c9806",
   "metadata": {},
   "outputs": [
    {
     "data": {
      "text/plain": [
       "[3, -5, 6, 8]"
      ]
     },
     "execution_count": 25,
     "metadata": {},
     "output_type": "execute_result"
    }
   ],
   "source": [
    "L[:4]"
   ]
  },
  {
   "cell_type": "code",
   "execution_count": 26,
   "id": "50a7d12f",
   "metadata": {},
   "outputs": [
    {
     "data": {
      "text/plain": [
       "[6, 8, 20]"
      ]
     },
     "execution_count": 26,
     "metadata": {},
     "output_type": "execute_result"
    }
   ],
   "source": [
    "L[2:]"
   ]
  },
  {
   "cell_type": "code",
   "execution_count": 27,
   "id": "3097e33e",
   "metadata": {},
   "outputs": [
    {
     "data": {
      "text/plain": [
       "8"
      ]
     },
     "execution_count": 27,
     "metadata": {},
     "output_type": "execute_result"
    }
   ],
   "source": [
    "L[-2]"
   ]
  },
  {
   "cell_type": "code",
   "execution_count": 28,
   "id": "5de4cfc1",
   "metadata": {},
   "outputs": [
    {
     "data": {
      "text/plain": [
       "[6, 8]"
      ]
     },
     "execution_count": 28,
     "metadata": {},
     "output_type": "execute_result"
    }
   ],
   "source": [
    "L[-3:-1]"
   ]
  },
  {
   "cell_type": "code",
   "execution_count": 29,
   "id": "593ccff3",
   "metadata": {},
   "outputs": [],
   "source": [
    "st='hello'"
   ]
  },
  {
   "cell_type": "code",
   "execution_count": 30,
   "id": "bc63e362",
   "metadata": {},
   "outputs": [
    {
     "data": {
      "text/plain": [
       "'ell'"
      ]
     },
     "execution_count": 30,
     "metadata": {},
     "output_type": "execute_result"
    }
   ],
   "source": [
    "st[1:4]"
   ]
  },
  {
   "cell_type": "code",
   "execution_count": 31,
   "id": "843f8b7e",
   "metadata": {},
   "outputs": [
    {
     "data": {
      "text/plain": [
       "[0, 1, 2, 3, 4, 5, 6, 7, 8, 9]"
      ]
     },
     "execution_count": 31,
     "metadata": {},
     "output_type": "execute_result"
    }
   ],
   "source": [
    "list(range(10))"
   ]
  },
  {
   "cell_type": "code",
   "execution_count": 32,
   "id": "f092db60",
   "metadata": {},
   "outputs": [
    {
     "data": {
      "text/plain": [
       "[1,\n",
       " 2,\n",
       " 3,\n",
       " 4,\n",
       " 5,\n",
       " 6,\n",
       " 7,\n",
       " 8,\n",
       " 9,\n",
       " 10,\n",
       " 11,\n",
       " 12,\n",
       " 13,\n",
       " 14,\n",
       " 15,\n",
       " 16,\n",
       " 17,\n",
       " 18,\n",
       " 19,\n",
       " 20,\n",
       " 21,\n",
       " 22,\n",
       " 23,\n",
       " 24,\n",
       " 25,\n",
       " 26,\n",
       " 27,\n",
       " 28,\n",
       " 29,\n",
       " 30,\n",
       " 31,\n",
       " 32,\n",
       " 33,\n",
       " 34,\n",
       " 35,\n",
       " 36,\n",
       " 37,\n",
       " 38,\n",
       " 39,\n",
       " 40,\n",
       " 41,\n",
       " 42,\n",
       " 43,\n",
       " 44,\n",
       " 45,\n",
       " 46,\n",
       " 47,\n",
       " 48,\n",
       " 49,\n",
       " 50,\n",
       " 51,\n",
       " 52,\n",
       " 53,\n",
       " 54,\n",
       " 55,\n",
       " 56,\n",
       " 57,\n",
       " 58,\n",
       " 59,\n",
       " 60,\n",
       " 61,\n",
       " 62,\n",
       " 63,\n",
       " 64,\n",
       " 65,\n",
       " 66,\n",
       " 67,\n",
       " 68,\n",
       " 69,\n",
       " 70,\n",
       " 71,\n",
       " 72,\n",
       " 73,\n",
       " 74,\n",
       " 75,\n",
       " 76,\n",
       " 77,\n",
       " 78,\n",
       " 79,\n",
       " 80,\n",
       " 81,\n",
       " 82,\n",
       " 83,\n",
       " 84,\n",
       " 85,\n",
       " 86,\n",
       " 87,\n",
       " 88,\n",
       " 89,\n",
       " 90,\n",
       " 91,\n",
       " 92,\n",
       " 93,\n",
       " 94,\n",
       " 95,\n",
       " 96,\n",
       " 97,\n",
       " 98,\n",
       " 99,\n",
       " 100]"
      ]
     },
     "execution_count": 32,
     "metadata": {},
     "output_type": "execute_result"
    }
   ],
   "source": [
    "list(range(1,101))"
   ]
  },
  {
   "cell_type": "code",
   "execution_count": 33,
   "id": "5dcc10ea",
   "metadata": {},
   "outputs": [
    {
     "data": {
      "text/plain": [
       "['a', 'b', 'c', 'd', 'e', 'f']"
      ]
     },
     "execution_count": 33,
     "metadata": {},
     "output_type": "execute_result"
    }
   ],
   "source": [
    "list('abcdef')"
   ]
  },
  {
   "cell_type": "code",
   "execution_count": 34,
   "id": "8bc26f54",
   "metadata": {},
   "outputs": [],
   "source": [
    "L=[1,3,5,7,9]"
   ]
  },
  {
   "cell_type": "code",
   "execution_count": 35,
   "id": "d7d84bac",
   "metadata": {},
   "outputs": [
    {
     "name": "stdout",
     "output_type": "stream",
     "text": [
      "1\n",
      "3\n",
      "5\n",
      "7\n",
      "9\n"
     ]
    }
   ],
   "source": [
    "for i in L:\n",
    "    print(i)"
   ]
  },
  {
   "cell_type": "code",
   "execution_count": 36,
   "id": "e27d48f1",
   "metadata": {},
   "outputs": [],
   "source": [
    "L=['貓','狗','天竺鼠','老鼠']"
   ]
  },
  {
   "cell_type": "code",
   "execution_count": 37,
   "id": "1d42d4a1",
   "metadata": {},
   "outputs": [
    {
     "name": "stdout",
     "output_type": "stream",
     "text": [
      "貓\n",
      "狗\n",
      "天竺鼠\n",
      "老鼠\n"
     ]
    }
   ],
   "source": [
    "for i in L:\n",
    "    print(i)"
   ]
  },
  {
   "cell_type": "code",
   "execution_count": 38,
   "id": "d5fe8cc1",
   "metadata": {},
   "outputs": [
    {
     "name": "stdout",
     "output_type": "stream",
     "text": [
      "2\n",
      "4\n",
      "6\n",
      "8\n",
      "10\n",
      "12\n",
      "14\n",
      "16\n",
      "18\n",
      "20\n"
     ]
    }
   ],
   "source": [
    "for i in range(1,11):\n",
    "    print(i*2)"
   ]
  },
  {
   "cell_type": "code",
   "execution_count": 39,
   "id": "d71cf4f2",
   "metadata": {},
   "outputs": [
    {
     "name": "stdout",
     "output_type": "stream",
     "text": [
      "7\n",
      "77\n",
      "777\n",
      "7777\n",
      "77777\n",
      "777777\n",
      "7777777\n",
      "77777777\n",
      "777777777\n",
      "7777777777\n"
     ]
    }
   ],
   "source": [
    "for i in range(1,11):\n",
    "    print('7'*i)"
   ]
  },
  {
   "cell_type": "markdown",
   "id": "edeaff09",
   "metadata": {},
   "source": [
    "## 找資料"
   ]
  },
  {
   "cell_type": "code",
   "execution_count": 40,
   "id": "6817ae10",
   "metadata": {},
   "outputs": [],
   "source": [
    "keyword='閃亮亮'"
   ]
  },
  {
   "cell_type": "code",
   "execution_count": 41,
   "id": "d32fc099",
   "metadata": {},
   "outputs": [],
   "source": [
    "mes='想買閃亮亮的東西'"
   ]
  },
  {
   "cell_type": "code",
   "execution_count": 42,
   "id": "71e6a52a",
   "metadata": {},
   "outputs": [
    {
     "data": {
      "text/plain": [
       "True"
      ]
     },
     "execution_count": 42,
     "metadata": {},
     "output_type": "execute_result"
    }
   ],
   "source": [
    "keyword in mes"
   ]
  },
  {
   "cell_type": "code",
   "execution_count": 43,
   "id": "e2837f0c",
   "metadata": {},
   "outputs": [],
   "source": [
    "L=[3,5,3,6,2,1]"
   ]
  },
  {
   "cell_type": "code",
   "execution_count": 44,
   "id": "4425cfc1",
   "metadata": {},
   "outputs": [
    {
     "data": {
      "text/plain": [
       "False"
      ]
     },
     "execution_count": 44,
     "metadata": {},
     "output_type": "execute_result"
    }
   ],
   "source": [
    "4 in L"
   ]
  },
  {
   "cell_type": "code",
   "execution_count": 45,
   "id": "30a2da91",
   "metadata": {},
   "outputs": [
    {
     "name": "stdout",
     "output_type": "stream",
     "text": [
      "好耶\n"
     ]
    }
   ],
   "source": [
    "a=9\n",
    "if a>7:\n",
    "    print('好耶')"
   ]
  },
  {
   "cell_type": "code",
   "execution_count": 46,
   "id": "0d1cf9f0",
   "metadata": {},
   "outputs": [
    {
     "name": "stdout",
     "output_type": "stream",
     "text": [
      ">> 蝦\n",
      "恩恩\n"
     ]
    }
   ],
   "source": [
    "mes=input('>> ')\n",
    "if ('哭阿'in mes):\n",
    "    print('拍拍')\n",
    "else:\n",
    "    print('恩恩')"
   ]
  },
  {
   "cell_type": "code",
   "execution_count": 50,
   "id": "60105dcc",
   "metadata": {},
   "outputs": [
    {
     "name": "stdout",
     "output_type": "stream",
     "text": [
      "Populating the interactive namespace from numpy and matplotlib\n"
     ]
    }
   ],
   "source": [
    "%pylab inline"
   ]
  },
  {
   "cell_type": "code",
   "execution_count": 54,
   "id": "514f26ef",
   "metadata": {},
   "outputs": [
    {
     "data": {
      "text/plain": [
       "9"
      ]
     },
     "execution_count": 54,
     "metadata": {},
     "output_type": "execute_result"
    }
   ],
   "source": [
    "randint(3,21)"
   ]
  },
  {
   "cell_type": "code",
   "execution_count": 55,
   "id": "54d461ab",
   "metadata": {},
   "outputs": [
    {
     "data": {
      "text/plain": [
       "10"
      ]
     },
     "execution_count": 55,
     "metadata": {},
     "output_type": "execute_result"
    }
   ],
   "source": [
    "randint(3,21)"
   ]
  },
  {
   "cell_type": "code",
   "execution_count": 56,
   "id": "b17ba7a9",
   "metadata": {},
   "outputs": [
    {
     "data": {
      "text/plain": [
       "18"
      ]
     },
     "execution_count": 56,
     "metadata": {},
     "output_type": "execute_result"
    }
   ],
   "source": [
    "randint(3,21)"
   ]
  },
  {
   "cell_type": "code",
   "execution_count": 58,
   "id": "6d54bbd0",
   "metadata": {},
   "outputs": [
    {
     "name": "stdout",
     "output_type": "stream",
     "text": [
      "                                                         *\n",
      "                              *\n",
      "                            *\n",
      "         *\n",
      "                                                      *\n",
      "                                                            *\n",
      "                                                                          *\n",
      "                          *\n",
      "       *\n",
      "                                               *\n"
     ]
    }
   ],
   "source": [
    "for i in range(10):\n",
    "    k=randint(1,101)\n",
    "    print(' '*k+'*')"
   ]
  }
 ],
 "metadata": {
  "kernelspec": {
   "display_name": "Python 3 (ipykernel)",
   "language": "python",
   "name": "python3"
  },
  "language_info": {
   "codemirror_mode": {
    "name": "ipython",
    "version": 3
   },
   "file_extension": ".py",
   "mimetype": "text/x-python",
   "name": "python",
   "nbconvert_exporter": "python",
   "pygments_lexer": "ipython3",
   "version": "3.9.7"
  }
 },
 "nbformat": 4,
 "nbformat_minor": 5
}
