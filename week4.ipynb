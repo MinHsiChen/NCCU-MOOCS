{
 "cells": [
  {
   "cell_type": "code",
   "execution_count": 12,
   "id": "f294323e",
   "metadata": {},
   "outputs": [],
   "source": [
    "%matplotlib inline\n",
    "import numpy as np\n",
    "import matplotlib.pyplot as plt"
   ]
  },
  {
   "cell_type": "code",
   "execution_count": 13,
   "id": "f83d6730",
   "metadata": {},
   "outputs": [],
   "source": [
    "mydict={'apple':'蘋果','banana':'香蕉'}"
   ]
  },
  {
   "cell_type": "code",
   "execution_count": 14,
   "id": "dc1c837e",
   "metadata": {},
   "outputs": [
    {
     "data": {
      "text/plain": [
       "{'apple': '蘋果', 'banana': '香蕉'}"
      ]
     },
     "execution_count": 14,
     "metadata": {},
     "output_type": "execute_result"
    }
   ],
   "source": [
    "mydict"
   ]
  },
  {
   "cell_type": "code",
   "execution_count": 15,
   "id": "d4843457",
   "metadata": {},
   "outputs": [
    {
     "data": {
      "text/plain": [
       "'蘋果'"
      ]
     },
     "execution_count": 15,
     "metadata": {},
     "output_type": "execute_result"
    }
   ],
   "source": [
    "mydict['apple']"
   ]
  },
  {
   "cell_type": "code",
   "execution_count": 16,
   "id": "02e1fee0",
   "metadata": {},
   "outputs": [],
   "source": [
    "mydict['orange']='柳橙'"
   ]
  },
  {
   "cell_type": "code",
   "execution_count": 17,
   "id": "c4f09aab",
   "metadata": {},
   "outputs": [
    {
     "data": {
      "text/plain": [
       "{'apple': '蘋果', 'banana': '香蕉', 'orange': '柳橙'}"
      ]
     },
     "execution_count": 17,
     "metadata": {},
     "output_type": "execute_result"
    }
   ],
   "source": [
    "mydict"
   ]
  },
  {
   "cell_type": "code",
   "execution_count": 18,
   "id": "947ed7ec",
   "metadata": {},
   "outputs": [
    {
     "name": "stdout",
     "output_type": "stream",
     "text": [
      "apple:蘋果\n",
      "banana:香蕉\n",
      "orange:柳橙\n"
     ]
    }
   ],
   "source": [
    "for key in mydict:\n",
    "    print('{}:{}'.format(key,mydict[key]))"
   ]
  },
  {
   "cell_type": "code",
   "execution_count": 19,
   "id": "c214285c",
   "metadata": {},
   "outputs": [],
   "source": [
    "from ipywidgets import interact"
   ]
  },
  {
   "cell_type": "code",
   "execution_count": 20,
   "id": "b07dace6",
   "metadata": {},
   "outputs": [],
   "source": [
    "def f(x):\n",
    "    print(x)"
   ]
  },
  {
   "cell_type": "code",
   "execution_count": 21,
   "id": "70c4eb1f",
   "metadata": {},
   "outputs": [
    {
     "data": {
      "application/vnd.jupyter.widget-view+json": {
       "model_id": "e4ea39ffdc1c427ba1f4a4ed9901d9eb",
       "version_major": 2,
       "version_minor": 0
      },
      "text/plain": [
       "interactive(children=(IntSlider(value=3, description='x', max=9, min=-3), Output()), _dom_classes=('widget-int…"
      ]
     },
     "metadata": {},
     "output_type": "display_data"
    },
    {
     "data": {
      "text/plain": [
       "<function __main__.f(x)>"
      ]
     },
     "execution_count": 21,
     "metadata": {},
     "output_type": "execute_result"
    }
   ],
   "source": [
    "interact(f,x=3)"
   ]
  },
  {
   "cell_type": "code",
   "execution_count": 22,
   "id": "f75f1dde",
   "metadata": {},
   "outputs": [
    {
     "data": {
      "application/vnd.jupyter.widget-view+json": {
       "model_id": "46c83cafa9e745d38207386dceb55421",
       "version_major": 2,
       "version_minor": 0
      },
      "text/plain": [
       "interactive(children=(FloatSlider(value=3.0, description='x', max=9.0, min=-3.0), Output()), _dom_classes=('wi…"
      ]
     },
     "metadata": {},
     "output_type": "display_data"
    },
    {
     "data": {
      "text/plain": [
       "<function __main__.f(x)>"
      ]
     },
     "execution_count": 22,
     "metadata": {},
     "output_type": "execute_result"
    }
   ],
   "source": [
    "interact(f,x=3.)"
   ]
  },
  {
   "cell_type": "code",
   "execution_count": 24,
   "id": "9b130863",
   "metadata": {},
   "outputs": [
    {
     "data": {
      "application/vnd.jupyter.widget-view+json": {
       "model_id": "4bd6f3af37b04b6e91bff8b626f81d58",
       "version_major": 2,
       "version_minor": 0
      },
      "text/plain": [
       "interactive(children=(FloatSlider(value=5.5, description='x', max=10.0, min=1.0), Output()), _dom_classes=('wi…"
      ]
     },
     "metadata": {},
     "output_type": "display_data"
    },
    {
     "data": {
      "text/plain": [
       "<function __main__.f(x)>"
      ]
     },
     "execution_count": 24,
     "metadata": {},
     "output_type": "execute_result"
    }
   ],
   "source": [
    "interact(f,x=(1.,10.))"
   ]
  },
  {
   "cell_type": "code",
   "execution_count": 25,
   "id": "3b7e195d",
   "metadata": {},
   "outputs": [
    {
     "data": {
      "application/vnd.jupyter.widget-view+json": {
       "model_id": "e905da599a844aa480d48c2050e61468",
       "version_major": 2,
       "version_minor": 0
      },
      "text/plain": [
       "interactive(children=(Text(value='hi', description='x'), Output()), _dom_classes=('widget-interact',))"
      ]
     },
     "metadata": {},
     "output_type": "display_data"
    },
    {
     "data": {
      "text/plain": [
       "<function __main__.f(x)>"
      ]
     },
     "execution_count": 25,
     "metadata": {},
     "output_type": "execute_result"
    }
   ],
   "source": [
    "interact(f,x=('hi'))"
   ]
  },
  {
   "cell_type": "code",
   "execution_count": 26,
   "id": "07a18714",
   "metadata": {},
   "outputs": [
    {
     "data": {
      "application/vnd.jupyter.widget-view+json": {
       "model_id": "c7a631ea82a64bd0999d7cc48ad7b1e9",
       "version_major": 2,
       "version_minor": 0
      },
      "text/plain": [
       "interactive(children=(Dropdown(description='x', options=('台北', '台中', '新竹'), value='台北'), Output()), _dom_class…"
      ]
     },
     "metadata": {},
     "output_type": "display_data"
    },
    {
     "data": {
      "text/plain": [
       "<function __main__.f(x)>"
      ]
     },
     "execution_count": 26,
     "metadata": {},
     "output_type": "execute_result"
    }
   ],
   "source": [
    "interact(f,x=['台北','台中','新竹'])"
   ]
  },
  {
   "cell_type": "code",
   "execution_count": 28,
   "id": "4a6141d9",
   "metadata": {},
   "outputs": [
    {
     "data": {
      "application/vnd.jupyter.widget-view+json": {
       "model_id": "ce0e5bdfca89451cb0bbad814454d329",
       "version_major": 2,
       "version_minor": 0
      },
      "text/plain": [
       "interactive(children=(Dropdown(description='x', options={'台北': 1, '台中': 2, '新竹': 3}, value=1), Output()), _dom…"
      ]
     },
     "metadata": {},
     "output_type": "display_data"
    },
    {
     "data": {
      "text/plain": [
       "<function __main__.f(x)>"
      ]
     },
     "execution_count": 28,
     "metadata": {},
     "output_type": "execute_result"
    }
   ],
   "source": [
    "interact(f,x={'台北':1,'台中':2,'新竹':3})"
   ]
  },
  {
   "cell_type": "code",
   "execution_count": 29,
   "id": "6aa9fc9e",
   "metadata": {},
   "outputs": [],
   "source": [
    "def move(n):\n",
    "    print(' '*n+'oooo')"
   ]
  },
  {
   "cell_type": "code",
   "execution_count": 30,
   "id": "34762651",
   "metadata": {},
   "outputs": [
    {
     "name": "stdout",
     "output_type": "stream",
     "text": [
      "          oooo\n"
     ]
    }
   ],
   "source": [
    "move(10)"
   ]
  },
  {
   "cell_type": "code",
   "execution_count": 31,
   "id": "782c1819",
   "metadata": {},
   "outputs": [
    {
     "name": "stdout",
     "output_type": "stream",
     "text": [
      "                                                                                                    oooo\n"
     ]
    }
   ],
   "source": [
    "move(100)"
   ]
  },
  {
   "cell_type": "code",
   "execution_count": 33,
   "id": "df70f873",
   "metadata": {},
   "outputs": [
    {
     "data": {
      "application/vnd.jupyter.widget-view+json": {
       "model_id": "9c6135d8299c4fd6b076e3aa57ebf4d5",
       "version_major": 2,
       "version_minor": 0
      },
      "text/plain": [
       "interactive(children=(IntSlider(value=50, description='n', max=150, min=-50), Output()), _dom_classes=('widget…"
      ]
     },
     "metadata": {},
     "output_type": "display_data"
    },
    {
     "data": {
      "text/plain": [
       "<function __main__.move(n)>"
      ]
     },
     "execution_count": 33,
     "metadata": {},
     "output_type": "execute_result"
    }
   ],
   "source": [
    "interact(move,n=50)"
   ]
  },
  {
   "cell_type": "code",
   "execution_count": 34,
   "id": "70b8886d",
   "metadata": {},
   "outputs": [],
   "source": [
    "x=np.linspace(0,2*np.pi,1000)"
   ]
  },
  {
   "cell_type": "code",
   "execution_count": 35,
   "id": "f9d5456a",
   "metadata": {},
   "outputs": [],
   "source": [
    "def draw(n):\n",
    "    y=np.sin(n*x)\n",
    "    plt.plot(x,y,lw=3)"
   ]
  },
  {
   "cell_type": "code",
   "execution_count": 36,
   "id": "9f269c0b",
   "metadata": {},
   "outputs": [
    {
     "data": {
      "image/png": "[encoded data removed]",
      "text/plain": [
       "<Figure size 432x288 with 1 Axes>"
      ]
     },
     "metadata": {
      "needs_background": "light"
     },
     "output_type": "display_data"
    }
   ],
   "source": [
    "draw(3)"
   ]
  },
  {
   "cell_type": "code",
   "execution_count": 38,
   "id": "6961a3d7",
   "metadata": {},
   "outputs": [
    {
     "data": {
      "application/vnd.jupyter.widget-view+json": {
       "model_id": "28f7f2fb5a124a5c87c26add2ae7486e",
       "version_major": 2,
       "version_minor": 0
      },
      "text/plain": [
       "interactive(children=(FloatSlider(value=5.5, description='n', max=10.0, min=1.0), Output()), _dom_classes=('wi…"
      ]
     },
     "metadata": {},
     "output_type": "display_data"
    },
    {
     "data": {
      "text/plain": [
       "<function __main__.draw(n)>"
      ]
     },
     "execution_count": 38,
     "metadata": {},
     "output_type": "execute_result"
    }
   ],
   "source": [
    "interact(draw,n=(1.,10.))"
   ]
  },
  {
   "cell_type": "code",
   "execution_count": 39,
   "id": "8a8dc85b",
   "metadata": {},
   "outputs": [],
   "source": [
    "def draw(n):\n",
    "    y=np.sin(n*x)\n",
    "    plt.plot(x,y,lw=3)\n",
    "    plt.show()"
   ]
  },
  {
   "cell_type": "code",
   "execution_count": 40,
   "id": "4ae14a25",
   "metadata": {},
   "outputs": [
    {
     "data": {
      "application/vnd.jupyter.widget-view+json": {
       "model_id": "a69d75c705a34514aab4cff591bc4704",
       "version_major": 2,
       "version_minor": 0
      },
      "text/plain": [
       "interactive(children=(FloatSlider(value=5.5, description='n', max=10.0, min=1.0), Output()), _dom_classes=('wi…"
      ]
     },
     "metadata": {},
     "output_type": "display_data"
    },
    {
     "data": {
      "text/plain": [
       "<function __main__.draw(n)>"
      ]
     },
     "execution_count": 40,
     "metadata": {},
     "output_type": "execute_result"
    }
   ],
   "source": [
    "interact(draw,n=(1.,10.))"
   ]
  },
  {
   "cell_type": "code",
   "execution_count": 41,
   "id": "dd569844",
   "metadata": {},
   "outputs": [],
   "source": [
    "from ipywidgets import interact_manual"
   ]
  },
  {
   "cell_type": "code",
   "execution_count": 42,
   "id": "5901ee1a",
   "metadata": {},
   "outputs": [],
   "source": [
    "X=np.random.rand(6)\n",
    "Y=np.random.rand(6)"
   ]
  },
  {
   "cell_type": "code",
   "execution_count": 51,
   "id": "ad62b49c",
   "metadata": {},
   "outputs": [
    {
     "data": {
      "text/plain": [
       "<matplotlib.collections.PathCollection at 0x25914f53bb0>"
      ]
     },
     "execution_count": 51,
     "metadata": {},
     "output_type": "execute_result"
    },
    {
     "data": {
      "image/png": "[encoded data removed]",
      "text/plain": [
       "<Figure size 432x288 with 1 Axes>"
      ]
     },
     "metadata": {
      "needs_background": "light"
     },
     "output_type": "display_data"
    }
   ],
   "source": [
    "plt.scatter(X,Y,s=10,c='purple')"
   ]
  },
  {
   "cell_type": "code",
   "execution_count": 56,
   "id": "790d2314",
   "metadata": {},
   "outputs": [],
   "source": [
    "x=np.linspace(0,1,1000)"
   ]
  },
  {
   "cell_type": "code",
   "execution_count": 59,
   "id": "6ef1518b",
   "metadata": {},
   "outputs": [],
   "source": [
    "def draw(n):\n",
    "    plt.scatter(X,Y,s=10,c='purple')\n",
    "    y=0.5*np.sin(n*x*2*np.pi)+0.5\n",
    "    plt.plot(x,y)\n",
    "    plt.show()"
   ]
  },
  {
   "cell_type": "code",
   "execution_count": 61,
   "id": "4196b803",
   "metadata": {},
   "outputs": [
    {
     "data": {
      "application/vnd.jupyter.widget-view+json": {
       "model_id": "233578e3d58e4bb48fdc8a401b57bc70",
       "version_major": 2,
       "version_minor": 0
      },
      "text/plain": [
       "interactive(children=(FloatSlider(value=5.5, description='n', max=10.0, min=1.0), Button(description='Run Inte…"
      ]
     },
     "metadata": {},
     "output_type": "display_data"
    },
    {
     "data": {
      "text/plain": [
       "<function __main__.draw(n)>"
      ]
     },
     "execution_count": 61,
     "metadata": {},
     "output_type": "execute_result"
    }
   ],
   "source": [
    "interact_manual(draw,n=(1.,10.))"
   ]
  },
  {
   "cell_type": "markdown",
   "id": "ed1bca3d",
   "metadata": {},
   "source": [
    "## BMI計算"
   ]
  },
  {
   "cell_type": "code",
   "execution_count": 64,
   "id": "6db9d554",
   "metadata": {},
   "outputs": [],
   "source": [
    "def BMI(h,w):\n",
    "    h=float(h)/100\n",
    "    w=float(w)\n",
    "    bmi=w/(h**2)\n",
    "    print('你的BMI={:.2f}'.format(bmi))"
   ]
  },
  {
   "cell_type": "code",
   "execution_count": 67,
   "id": "3ab98f25",
   "metadata": {},
   "outputs": [
    {
     "data": {
      "application/vnd.jupyter.widget-view+json": {
       "model_id": "5e71c26bfd1e408889e56c947fb03c36",
       "version_major": 2,
       "version_minor": 0
      },
      "text/plain": [
       "interactive(children=(Text(value='請輸入身高:', description='h'), Text(value='請輸入體重:', description='w'), Button(des…"
      ]
     },
     "metadata": {},
     "output_type": "display_data"
    },
    {
     "data": {
      "text/plain": [
       "<function __main__.BMI(h, w)>"
      ]
     },
     "execution_count": 67,
     "metadata": {},
     "output_type": "execute_result"
    }
   ],
   "source": [
    "interact_manual(BMI,h='請輸入身高:',w='請輸入體重:')"
   ]
  }
 ],
 "metadata": {
  "kernelspec": {
   "display_name": "Python 3 (ipykernel)",
   "language": "python",
   "name": "python3"
  },
  "language_info": {
   "codemirror_mode": {
    "name": "ipython",
    "version": 3
   },
   "file_extension": ".py",
   "mimetype": "text/x-python",
   "name": "python",
   "nbconvert_exporter": "python",
   "pygments_lexer": "ipython3",
   "version": "3.9.7"
  }
 },
 "nbformat": 4,
 "nbformat_minor": 5
}
